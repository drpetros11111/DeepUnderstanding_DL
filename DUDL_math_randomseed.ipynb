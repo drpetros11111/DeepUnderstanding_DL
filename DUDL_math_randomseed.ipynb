{
  "nbformat": 4,
  "nbformat_minor": 0,
  "metadata": {
    "colab": {
      "provenance": [],
      "include_colab_link": true
    },
    "kernelspec": {
      "name": "python3",
      "display_name": "Python 3"
    },
    "language_info": {
      "name": "python"
    }
  },
  "cells": [
    {
      "cell_type": "markdown",
      "metadata": {
        "id": "view-in-github",
        "colab_type": "text"
      },
      "source": [
        "<a href=\"https://colab.research.google.com/github/drpetros11111/DeepUnderstanding_DL/blob/Math/DUDL_math_randomseed.ipynb\" target=\"_parent\"><img src=\"https://colab.research.google.com/assets/colab-badge.svg\" alt=\"Open In Colab\"/></a>"
      ]
    },
    {
      "cell_type": "markdown",
      "metadata": {
        "id": "bhWV8oes-wKR"
      },
      "source": [
        "# COURSE: A deep understanding of deep learning\n",
        "## SECTION: Math prerequisites\n",
        "### LECTURE: Identical randomness via seeding\n",
        "#### TEACHER: Mike X Cohen, sincxpress.com\n",
        "##### COURSE URL: udemy.com/course/deeplearning_x/?couponCode=202401"
      ]
    },
    {
      "cell_type": "code",
      "metadata": {
        "id": "wYjuZD1kPb3g"
      },
      "source": [
        "# import libraries\n",
        "import numpy as np\n",
        "import torch"
      ],
      "execution_count": 1,
      "outputs": []
    },
    {
      "cell_type": "code",
      "metadata": {
        "id": "tJ_A2ykHS5RY",
        "colab": {
          "base_uri": "https://localhost:8080/"
        },
        "outputId": "56406a28-ff36-49a3-ec39-c34474058e35"
      },
      "source": [
        "# generate a few random numbers\n",
        "np.random.randn(5)"
      ],
      "execution_count": 2,
      "outputs": [
        {
          "output_type": "execute_result",
          "data": {
            "text/plain": [
              "array([1.38431608, 0.15455336, 0.43882593, 1.52470505, 0.20424841])"
            ]
          },
          "metadata": {},
          "execution_count": 2
        }
      ]
    },
    {
      "cell_type": "code",
      "metadata": {
        "id": "QZaS568IThAr",
        "colab": {
          "base_uri": "https://localhost:8080/"
        },
        "outputId": "afc7958b-d99d-4685-e3a0-8a810d382eba"
      },
      "source": [
        "# repeat after fixing the seed (old-but-still-widely-used method)\n",
        "np.random.seed(17)\n",
        "print(np.random.randn(5))\n",
        "print(np.random.randn(5))\n",
        "\n",
        "# [ 0.27626589 -1.85462808  0.62390111  1.14531129  1.03719047]\n",
        "# [ 1.88663893 -0.11169829 -0.36210134  0.14867505 -0.43778315]"
      ],
      "execution_count": 4,
      "outputs": [
        {
          "output_type": "stream",
          "name": "stdout",
          "text": [
            "[ 0.27626589 -1.85462808  0.62390111  1.14531129  1.03719047]\n",
            "[ 1.88663893 -0.11169829 -0.36210134  0.14867505 -0.43778315]\n"
          ]
        }
      ]
    },
    {
      "cell_type": "markdown",
      "metadata": {
        "id": "v5VZW0g-DxLl"
      },
      "source": [
        "# New seed mechanism in numpy"
      ]
    },
    {
      "cell_type": "code",
      "metadata": {
        "id": "7Ctn7a0hChbA",
        "colab": {
          "base_uri": "https://localhost:8080/"
        },
        "outputId": "2ac4695e-4e71-4e5c-aec3-ef179d323217"
      },
      "source": [
        "randseed1 = np.random.RandomState(17)\n",
        "randseed2 = np.random.RandomState(20210530)\n",
        "\n",
        "print( randseed1.randn(5) ) # same sequence\n",
        "print( randseed2.randn(5) ) # different from above, but same each time\n",
        "print( randseed1.randn(5) ) # same as two up\n",
        "print( randseed2.randn(5) ) # same as two up\n",
        "print( np.random.randn(5) ) # different every time\n",
        "\n",
        "# [ 0.27626589 -1.85462808  0.62390111  1.14531129  1.03719047]\n",
        "# [-0.24972681 -1.01951826  2.23461339  0.72764703  1.2921122 ]\n",
        "# [ 1.88663893 -0.11169829 -0.36210134  0.14867505 -0.43778315]\n",
        "# [ 1.15494929 -0.0015467  -0.11196868 -1.08136725  0.10265891]\n",
        "# [ 2.171257    1.15231025 -1.81881234 -0.13804934  0.53983961]"
      ],
      "execution_count": 7,
      "outputs": [
        {
          "output_type": "stream",
          "name": "stdout",
          "text": [
            "[ 0.27626589 -1.85462808  0.62390111  1.14531129  1.03719047]\n",
            "[-0.24972681 -1.01951826  2.23461339  0.72764703  1.2921122 ]\n",
            "[ 1.88663893 -0.11169829 -0.36210134  0.14867505 -0.43778315]\n",
            "[ 1.15494929 -0.0015467  -0.11196868 -1.08136725  0.10265891]\n",
            "[-0.9822943   1.03126909  0.49133378 -0.4466466  -0.80636008]\n"
          ]
        }
      ]
    },
    {
      "cell_type": "markdown",
      "source": [
        "# Random State Key Concepts\n",
        "--------------\n",
        "## RandomState:\n",
        "\n",
        "This is an object used to create a new instance of a random number generator.\n",
        "\n",
        "By setting a seed, you can ensure that the random numbers generated are reproducible.\n",
        "\n",
        "Different instances of RandomState with different seeds will generate different sequences of random numbers.\n",
        "\n",
        "-----------------------\n",
        "#randn():\n",
        "\n",
        "This function generates random numbers from a standard normal distribution (mean 0, standard deviation 1).\n",
        "\n",
        "The numbers are drawn from this distribution.\n",
        "\n",
        "-----------------------\n",
        "-------------------------\n",
        "#Code Breakdown:\n",
        "\n",
        "    randseed1 = np.random.RandomState(17)\n",
        "    randseed2 = np.random.RandomState(20210530)\n",
        "\n",
        "Here, two random number generators (randseed1 and randseed2) are created with different seeds (17 and 20210530).\n",
        "\n",
        "These seeds determine the sequence of random numbers that will be generated by each random number generator.\n",
        "\n",
        "\n",
        "##Random Number Generation:\n",
        "\n",
        "    print(randseed1.randn(5))  # same sequence\n",
        "\n",
        "This generates 5 random numbers from randseed1, which is based on the seed 17.\n",
        "\n",
        "Each time you run the code, the same sequence of numbers will be generated from this seed.\n",
        "\n",
        "    print(randseed2.randn(5))  # different from above, but same each time\n",
        "\n",
        "This generates 5 random numbers from randseed2, based on the seed 20210530.\n",
        "\n",
        "These numbers will be different from the ones generated by randseed1 but will always be the same for this specific seed.\n",
        "\n",
        "    print(randseed1.randn(5))  # same as two up\n",
        "\n",
        "This generates another 5 random numbers from randseed1.\n",
        "\n",
        "Since this random generator was already used once, the new numbers are part of the sequence generated from seed 17.\n",
        "\n",
        "It’s the continuation of the sequence, so these numbers will always be the same every time you run this line of code.\n",
        "\n",
        "    print(randseed2.randn(5))  # same as two up\n",
        "\n",
        "This generates another 5 random numbers from randseed2, again following the continuation of the sequence from seed 20210530.\n",
        "\n",
        "Like before, the numbers will always be the same for this specific seed.\n",
        "\n",
        "    print(np.random.randn(5))  # different every time\n",
        "\n",
        "This generates 5 random numbers using np.random.randn(5), which does not use a specific seed.\n",
        "\n",
        "As a result, this will produce different random numbers each time you run the code because no seed was set.\n",
        "\n",
        "------------------\n",
        "#Summary\n",
        "randseed1 and randseed2 are reproducible because they are initialized with specific seeds (17 and 20210530), ensuring that the random number sequences are the same each time you run the code.\n",
        "\n",
        "Without setting a seed (np.random.randn(5)), the random numbers change every time the code is executed."
      ],
      "metadata": {
        "id": "mbcdlp5bWRty"
      }
    },
    {
      "cell_type": "code",
      "source": [],
      "metadata": {
        "colab": {
          "base_uri": "https://localhost:8080/"
        },
        "id": "ZUniXETYh52I",
        "outputId": "8f648038-068c-4f8c-da73-2794224daa3d"
      },
      "execution_count": null,
      "outputs": [
        {
          "output_type": "stream",
          "name": "stdout",
          "text": [
            "[-1.77528229  1.31487654 -0.47344805 -1.0922299  -0.25002744]\n"
          ]
        }
      ]
    },
    {
      "cell_type": "markdown",
      "metadata": {
        "id": "Jy2WlM_oBjZy"
      },
      "source": [
        "# Now in pytorch"
      ]
    },
    {
      "cell_type": "code",
      "metadata": {
        "id": "oAUTsBE646fN",
        "colab": {
          "base_uri": "https://localhost:8080/"
        },
        "outputId": "eda25488-d88f-46c5-a465-23771cd8fda4"
      },
      "source": [
        "torch.randn(5)"
      ],
      "execution_count": 8,
      "outputs": [
        {
          "output_type": "execute_result",
          "data": {
            "text/plain": [
              "tensor([ 0.4042,  0.6359, -0.6229,  0.2103,  0.3948])"
            ]
          },
          "metadata": {},
          "execution_count": 8
        }
      ]
    },
    {
      "cell_type": "code",
      "metadata": {
        "id": "mdoWX2Fx5JIy",
        "colab": {
          "base_uri": "https://localhost:8080/"
        },
        "outputId": "83b98d5a-16c9-481e-dfbd-c4ec5332f877"
      },
      "source": [
        "torch.manual_seed(17)\n",
        "print( torch.randn(5) )\n",
        "\n",
        "# torch's seed doesn't spread to numpy\n",
        "print( np.random.randn(5) )"
      ],
      "execution_count": 9,
      "outputs": [
        {
          "output_type": "stream",
          "name": "stdout",
          "text": [
            "tensor([-1.4135,  0.2336,  0.0340,  0.3499, -0.0145])\n",
            "[ 0.13126776 -1.21256024  0.15999085 -0.75522304  0.34989599]\n"
          ]
        }
      ]
    }
  ]
}