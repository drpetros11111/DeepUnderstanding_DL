{
  "nbformat": 4,
  "nbformat_minor": 0,
  "metadata": {
    "colab": {
      "provenance": [],
      "include_colab_link": true
    },
    "kernelspec": {
      "name": "python3",
      "display_name": "Python 3"
    },
    "language_info": {
      "name": "python"
    }
  },
  "cells": [
    {
      "cell_type": "markdown",
      "metadata": {
        "id": "view-in-github",
        "colab_type": "text"
      },
      "source": [
        "<a href=\"https://colab.research.google.com/github/drpetros11111/DeepUnderstanding_DL/blob/Matrix/DUDL_math_matrixMult.ipynb\" target=\"_parent\"><img src=\"https://colab.research.google.com/assets/colab-badge.svg\" alt=\"Open In Colab\"/></a>"
      ]
    },
    {
      "cell_type": "markdown",
      "metadata": {
        "id": "bhWV8oes-wKR"
      },
      "source": [
        "# COURSE: A deep understanding of deep learning\n",
        "## SECTION: Math prerequisites\n",
        "### LECTURE: Matrix multiplication\n",
        "#### TEACHER: Mike X Cohen, sincxpress.com\n",
        "##### COURSE URL: udemy.com/course/deeplearning_x/?couponCode=202401"
      ]
    },
    {
      "cell_type": "code",
      "metadata": {
        "id": "vRQNyNtlDoOb"
      },
      "source": [
        "# import libraries\n",
        "import numpy as np\n",
        "import torch"
      ],
      "execution_count": 1,
      "outputs": []
    },
    {
      "cell_type": "markdown",
      "metadata": {
        "id": "K0BSQG0fDpt_"
      },
      "source": [
        "# Using numpy"
      ]
    },
    {
      "cell_type": "code",
      "metadata": {
        "id": "T4_veEYqDpx9",
        "colab": {
          "base_uri": "https://localhost:8080/",
          "height": 0
        },
        "outputId": "90d2aa73-b21b-4838-ee5b-0615cc9b5238"
      },
      "source": [
        "# create some random matrices\n",
        "A = np.random.randn(3,4)\n",
        "B = np.random.randn(4,5)\n",
        "C = np.random.randn(3,7)\n",
        "\n",
        "# try some multiplications...\n",
        "print(np.round( A@B   ,2)), print(' ')\n",
        "# print(np.round( A@C   ,2)), print(' ')\n",
        "# print(np.round( B@C   ,2)), print(' ')\n",
        "print(np.round( C.T@A ,2))"
      ],
      "execution_count": 2,
      "outputs": [
        {
          "output_type": "stream",
          "name": "stdout",
          "text": [
            "[[ 2.09 -7.81 -2.94  1.15 -0.98]\n",
            " [ 1.4  -3.97 -1.45 -0.93 -1.7 ]\n",
            " [ 1.08 -0.92 -0.31  1.88  0.86]]\n",
            " \n",
            "[[-0.4  -1.21 -1.11 -1.03]\n",
            " [ 6.01  0.84 -3.08 -2.08]\n",
            " [-4.54 -1.04  2.13  1.44]\n",
            " [-0.6  -1.5  -1.83 -1.77]\n",
            " [ 0.3  -0.81 -0.56 -0.38]\n",
            " [-0.96 -1.07 -0.68 -0.72]\n",
            " [ 0.97  1.27 -0.44 -0.47]]\n"
          ]
        }
      ]
    },
    {
      "cell_type": "markdown",
      "source": [
        "# Using Tensorflow"
      ],
      "metadata": {
        "id": "G6-VtEcQS5aS"
      }
    },
    {
      "cell_type": "code",
      "source": [
        "import tensorflow as tf\n",
        "import numpy as np\n",
        "\n",
        "# Create some random matrices\n",
        "A = tf.random.normal((3, 4))  # A is 3x4\n",
        "B = tf.random.normal((4, 5))  # B is 4x5\n",
        "C1 = np.random.randn(4, 7)    # C1 is 4x7\n",
        "C2 = tf.convert_to_tensor(C1, dtype=tf.float32)  # C2 is 4x7\n",
        "\n",
        "# Perform some multiplications and print the results\n",
        "# A (3x4) @ B (4x5) = (3x5)\n",
        "print(np.round(tf.matmul(A, B).numpy(), 2))\n",
        "print(' ')\n",
        "\n",
        "# Transpose of A for multiplication with B.T\n",
        "# A.T (4x3) @ B.T (5x4) - This is invalid\n",
        "# Correct multiplication should be:\n",
        "print(np.round(tf.matmul(tf.transpose(A), tf.random.normal((3, 4))).numpy(), 2))  # (4x3) @ (4x3) = (4x3)\n",
        "print(' ')\n",
        "\n",
        "# A (3x4) @ C1 (4x7) = (3x7)\n",
        "print(np.round(tf.matmul(A, C1).numpy(), 2))\n",
        "print(' ')\n",
        "\n",
        "# A (3x4) @ C2 (4x7) = (3x7)\n",
        "print(np.round(tf.matmul(A, C2).numpy(), 2))"
      ],
      "metadata": {
        "colab": {
          "base_uri": "https://localhost:8080/"
        },
        "id": "BJ1Khi2LS_9Z",
        "outputId": "2460e2da-03be-4f57-e1f6-bbc0bac56914"
      },
      "execution_count": 10,
      "outputs": [
        {
          "output_type": "stream",
          "name": "stdout",
          "text": [
            "[[-3.82 -2.82 -4.34 -1.62  0.82]\n",
            " [-0.65 -1.12 -1.05 -0.7   3.28]\n",
            " [ 0.7   2.28  2.17  0.27 -2.22]]\n",
            " \n",
            "[[ 1.12 -2.04 -1.04 -0.08]\n",
            " [-3.35  2.89 -1.57  0.61]\n",
            " [ 0.3  -0.73  1.21 -1.34]\n",
            " [ 0.62  0.89  1.95  0.06]]\n",
            " \n",
            "[[ 0.94  1.31  1.25 -1.2   0.09 -1.17 -1.31]\n",
            " [-1.39  1.32 -0.3   1.3  -0.75  0.24 -0.79]\n",
            " [ 0.83 -0.52  1.98  0.46  1.43  0.16  2.6 ]]\n",
            " \n",
            "[[ 0.94  1.31  1.25 -1.2   0.09 -1.17 -1.31]\n",
            " [-1.39  1.32 -0.3   1.3  -0.75  0.24 -0.79]\n",
            " [ 0.83 -0.52  1.98  0.46  1.43  0.16  2.6 ]]\n"
          ]
        }
      ]
    },
    {
      "cell_type": "markdown",
      "source": [
        "# Matrix Multiplication\n",
        "\n",
        "    tf.matmul(A, B)\n",
        "\n",
        "##tf.matmul\n",
        "\n",
        "performs matrix multiplication between two tensors A and B.\n",
        "\n",
        "For matrix multiplication to be valid, the number of columns in A must match the number of rows in B.\n",
        "\n",
        "Given that A is of shape (3, 4) and B is of shape (4, 5), this operation is valid.\n",
        "\n",
        "The result will be a tensor with shape (3, 5), as the outer dimensions of the matrices determine the shape of the resulting matrix.\n",
        "\n",
        "-----------------------\n",
        "#Convert Tensor to NumPy Array:\n",
        "\n",
        "    tf.matmul(A, B).numpy()\n",
        "\n",
        "tf.matmul(A, B) returns a TensorFlow tensor.\n",
        "\n",
        "##.numpy()\n",
        "\n",
        "converts this tensor to a NumPy array, making it easier to work with for further operations or printing.\n",
        "\n",
        "----------------\n",
        "#Round the Values:\n",
        "\n",
        "    np.round(..., 2)\n",
        "\n",
        "##np.round\n",
        "\n",
        "rounds the values of the NumPy array to the specified number of decimal places. Here, 2 indicates rounding to two decimal places.\n",
        "\n",
        "This helps in formatting the output to be more readable by reducing the number of decimal places.\n",
        "\n",
        "--------------------------\n",
        "#Print the Result:\n",
        "\n",
        "    print(...)\n",
        "print outputs the result to the console.\n",
        "\n",
        "----------------\n",
        "#Example\n",
        "Assuming A is:\n",
        "\n",
        "    [[1, 2, 3, 4],\n",
        "     [5, 6, 7, 8],\n",
        "     [9, 10, 11, 12]]\n",
        "\n",
        "And B is:\n",
        "\n",
        "    [[1, 2, 3, 4, 5],\n",
        "     [6, 7, 8, 9, 10],\n",
        "     [11, 12, 13, 14, 15],\n",
        "     [16, 17, 18, 19, 20]]\n",
        "\n",
        "Then tf.matmul(A, B) would yield:\n",
        "\n",
        "\n",
        "    [[  90, 100, 110, 120, 130],\n",
        "     [202, 228, 254, 280, 306],\n",
        "     [314, 356, 398, 440, 482]]\n",
        "\n",
        "After rounding (though here rounding is not necessary as values are already integers), you would get:\n",
        "\n",
        "    [[  90., 100., 110., 120., 130.],\n",
        "     [ 202., 228., 254., 280., 306.],\n",
        "     [ 314., 356., 398., 440., 482.]]\n",
        "\n",
        "This statement thus performs the matrix multiplication, converts the result to a NumPy array, rounds the values to two decimal places, and prints the final output."
      ],
      "metadata": {
        "id": "-Z0U1EynYREk"
      }
    },
    {
      "cell_type": "markdown",
      "metadata": {
        "id": "89qsNy19Dp1U"
      },
      "source": [
        "# Using Pytorch"
      ]
    },
    {
      "cell_type": "code",
      "metadata": {
        "id": "4Yrdf4WOEjxz",
        "colab": {
          "base_uri": "https://localhost:8080/",
          "height": 0
        },
        "outputId": "ca31e09c-1b37-48d4-d683-6eba92a27202"
      },
      "source": [
        "# create some random matrices\n",
        "A  = torch.randn(3,4)\n",
        "B  = torch.randn(4,5)\n",
        "C1 = np.random.randn(4,7)\n",
        "C2 = torch.tensor( C1,dtype=torch.float )\n",
        "\n",
        "# try some multiplications...\n",
        "# print(np.round( A@B   ,2)), print(' ')\n",
        "# print(np.round( A@B.T ,2)), print(' ')\n",
        "print(np.round( A@C1  ,2)), print(' ')\n",
        "print(np.round( A@C2  ,2))"
      ],
      "execution_count": 3,
      "outputs": [
        {
          "output_type": "stream",
          "name": "stdout",
          "text": [
            "tensor([[ 0.5300,  4.9900,  0.2100,  2.1200, -2.8600,  0.6500, -2.1200],\n",
            "        [ 1.3500, -0.9900,  2.4600, -1.7200,  3.3300,  0.1300, -2.5600],\n",
            "        [-1.5500,  0.3100,  1.7700,  2.8200, -6.2700, -1.8500,  6.7800]],\n",
            "       dtype=torch.float64)\n",
            " \n",
            "tensor([[ 0.5300,  4.9900,  0.2100,  2.1200, -2.8600,  0.6500, -2.1200],\n",
            "        [ 1.3500, -0.9900,  2.4600, -1.7200,  3.3300,  0.1300, -2.5600],\n",
            "        [-1.5500,  0.3100,  1.7700,  2.8200, -6.2700, -1.8500,  6.7800]])\n"
          ]
        }
      ]
    }
  ]
}