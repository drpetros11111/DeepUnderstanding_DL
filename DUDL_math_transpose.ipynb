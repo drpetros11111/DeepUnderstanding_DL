{
  "nbformat": 4,
  "nbformat_minor": 0,
  "metadata": {
    "colab": {
      "provenance": [],
      "include_colab_link": true
    },
    "kernelspec": {
      "name": "python3",
      "display_name": "Python 3"
    },
    "language_info": {
      "name": "python"
    }
  },
  "cells": [
    {
      "cell_type": "markdown",
      "metadata": {
        "id": "view-in-github",
        "colab_type": "text"
      },
      "source": [
        "<a href=\"https://colab.research.google.com/github/drpetros11111/DeepUnderstanding_DL/blob/Matrix/DUDL_math_transpose.ipynb\" target=\"_parent\"><img src=\"https://colab.research.google.com/assets/colab-badge.svg\" alt=\"Open In Colab\"/></a>"
      ]
    },
    {
      "cell_type": "markdown",
      "metadata": {
        "id": "bhWV8oes-wKR"
      },
      "source": [
        "# COURSE: A deep understanding of deep learning\n",
        "## SECTION: Math prerequisites\n",
        "### LECTURE: Vector and matrix transpose\n",
        "#### TEACHER: Mike X Cohen, sincxpress.com\n",
        "##### COURSE URL: udemy.com/course/deeplearning_x/?couponCode=202401"
      ]
    },
    {
      "cell_type": "code",
      "metadata": {
        "id": "Yx_Rigz1AffS"
      },
      "source": [
        "# import libraries\n",
        "import numpy as np\n",
        "import torch"
      ],
      "execution_count": 1,
      "outputs": []
    },
    {
      "cell_type": "markdown",
      "metadata": {
        "id": "uakMyq7UBzCP"
      },
      "source": [
        "# Using numpy"
      ]
    },
    {
      "cell_type": "code",
      "metadata": {
        "id": "nG3ur0N-AneX",
        "colab": {
          "base_uri": "https://localhost:8080/"
        },
        "outputId": "f6f161e0-a9fc-4bc1-c8f3-e9a650670e42"
      },
      "source": [
        "# create a vector\n",
        "nv = np.array([ [1,2,3,4] ])\n",
        "print(nv), print(' ')\n",
        "\n",
        "# transpose it\n",
        "print(nv.T), print(' ')\n",
        "\n",
        "# transpose the transpose!\n",
        "nvT = nv.T\n",
        "print(nvT.T)"
      ],
      "execution_count": 2,
      "outputs": [
        {
          "output_type": "stream",
          "name": "stdout",
          "text": [
            "[[1 2 3 4]]\n",
            " \n",
            "[[1]\n",
            " [2]\n",
            " [3]\n",
            " [4]]\n",
            " \n",
            "[[1 2 3 4]]\n"
          ]
        }
      ]
    },
    {
      "cell_type": "code",
      "metadata": {
        "id": "Vmr-MkomA6K9",
        "colab": {
          "base_uri": "https://localhost:8080/"
        },
        "outputId": "c0699730-e894-4a5c-b141-eca423f4f2af"
      },
      "source": [
        "# repeat for a matrix\n",
        "nM = np.array([ [1,2,3,4],\n",
        "                [5,6,7,8]\n",
        "               ])\n",
        "print(nM), print(' ')\n",
        "\n",
        "# transpose it\n",
        "print(nM.T), print(' ')\n",
        "\n",
        "# transpose the transpose!\n",
        "nMT = nM.T\n",
        "print(nMT.T)"
      ],
      "execution_count": 3,
      "outputs": [
        {
          "output_type": "stream",
          "name": "stdout",
          "text": [
            "[[1 2 3 4]\n",
            " [5 6 7 8]]\n",
            " \n",
            "[[1 5]\n",
            " [2 6]\n",
            " [3 7]\n",
            " [4 8]]\n",
            " \n",
            "[[1 2 3 4]\n",
            " [5 6 7 8]]\n"
          ]
        }
      ]
    },
    {
      "cell_type": "markdown",
      "metadata": {
        "id": "oRLFXHk9BP1r"
      },
      "source": [
        "# Using pytorch"
      ]
    },
    {
      "cell_type": "code",
      "metadata": {
        "id": "Kjq-oGoUBTXs"
      },
      "source": [
        "# create a vector\n",
        "tv = torch.tensor([ [1,2,3,4] ])\n",
        "print(tv), print(' ')\n",
        "\n",
        "# transpose it\n",
        "print(tv.T), print(' ')\n",
        "\n",
        "# transpose the transpose!\n",
        "tvT = tv.T\n",
        "print(tvT.T)"
      ],
      "execution_count": null,
      "outputs": []
    },
    {
      "cell_type": "markdown",
      "source": [
        "# TENSOR FLOW"
      ],
      "metadata": {
        "id": "PMIw8wbSPIs1"
      }
    },
    {
      "cell_type": "code",
      "source": [
        "import tensorflow as tf\n",
        "\n",
        "# Create a vector\n",
        "tv = tf.constant([[1, 2, 3, 4]])\n",
        "print(tv.numpy())\n",
        "print(' ')\n",
        "\n",
        "# Transpose it\n",
        "tv_T = tf.transpose(tv)\n",
        "print(tv_T.numpy())\n",
        "print(' ')\n",
        "\n",
        "# Transpose the transpose!\n",
        "tv_T_T = tf.transpose(tv_T)\n",
        "print(tv_T_T.numpy())\n"
      ],
      "metadata": {
        "colab": {
          "base_uri": "https://localhost:8080/"
        },
        "id": "fnR6q6PmO-rc",
        "outputId": "563030f9-aee5-49a8-8bb2-e8b1f42dd097"
      },
      "execution_count": 4,
      "outputs": [
        {
          "output_type": "stream",
          "name": "stdout",
          "text": [
            "[[1 2 3 4]]\n",
            " \n",
            "[[1]\n",
            " [2]\n",
            " [3]\n",
            " [4]]\n",
            " \n",
            "[[1 2 3 4]]\n"
          ]
        }
      ]
    },
    {
      "cell_type": "markdown",
      "source": [
        "# Creating the Tensor in TF\n",
        "\n",
        "--------------------\n",
        "    tv = tf.constant([[1, 2, 3, 4]])\n",
        "    tf.constant creates a TensorFlow tensor with the given data.\n",
        "\n",
        "##[[1, 2, 3, 4]]\n",
        "\n",
        "is a 2D list (a list of lists) where the inner list represents a row in a matrix. In this case, there is only one row, so the tensor is a 1x4 matrix (or vector) with the values [1, 2, 3, 4].\n",
        "\n",
        "---------------\n",
        "##Printing the Tensor:\n",
        "\n",
        "    print(tv.numpy())\n",
        "    tv.numpy() converts the TensorFlow tensor to a NumPy array so it can be printed in a readable format.\n",
        "    print(tv.numpy()) outputs the tensor's values. For this example, it will print [[1 2 3 4]], which is the 1x4 tensor.\n",
        "\n",
        "##Printing a Blank Line:\n",
        "\n",
        "    print(' ')\n",
        "This simply prints an empty line to separate outputs visually.\n",
        "Overall, this snippet creates a 1x4 tensor and prints it out as a NumPy array, followed by a blank line for formatting."
      ],
      "metadata": {
        "id": "kXWzhxdmPlPN"
      }
    },
    {
      "cell_type": "markdown",
      "source": [
        "# PyTorch"
      ],
      "metadata": {
        "id": "6SlNYv_PQGPf"
      }
    },
    {
      "cell_type": "code",
      "metadata": {
        "id": "qwzG0O_aBfnv",
        "colab": {
          "base_uri": "https://localhost:8080/"
        },
        "outputId": "7a432f5c-41f2-45ca-e1e6-09743c44ede9"
      },
      "source": [
        "# repeat for a matrix\n",
        "tM = torch.tensor([ [1,2,3,4],[5,6,7,8] ])\n",
        "print(tM), print(' ')\n",
        "\n",
        "# transpose it\n",
        "print(tM.T), print(' ')\n",
        "\n",
        "# transpose the transpose!\n",
        "tMT = tM.T\n",
        "print(tMT.T)"
      ],
      "execution_count": 8,
      "outputs": [
        {
          "output_type": "stream",
          "name": "stdout",
          "text": [
            "tensor([[1, 2, 3, 4],\n",
            "        [5, 6, 7, 8]])\n",
            " \n",
            "tensor([[1, 5],\n",
            "        [2, 6],\n",
            "        [3, 7],\n",
            "        [4, 8]])\n",
            " \n",
            "tensor([[1, 2, 3, 4],\n",
            "        [5, 6, 7, 8]])\n"
          ]
        }
      ]
    },
    {
      "source": [
        "# examine data types\n",
        "print(f'Variable nv is of type {type(nv)}')\n",
        "print(f'Variable nM is of type {type(nM)}')\n",
        "print(f'Variable tv is of type {type(tv)}')\n",
        "\n",
        "# Ensure that the code that defines tM has been executed in the current scope\n",
        "import torch\n",
        "tM = torch.tensor([ [1,2,3,4],[5,6,7,8] ])\n",
        "print(f'Variable tM is of type {type(tM)}')"
      ],
      "cell_type": "code",
      "metadata": {
        "colab": {
          "base_uri": "https://localhost:8080/"
        },
        "id": "5TDMn-hhQfdB",
        "outputId": "0ffba375-680b-49d3-966f-e1c40bb6e366"
      },
      "execution_count": 7,
      "outputs": [
        {
          "output_type": "stream",
          "name": "stdout",
          "text": [
            "Variable nv is of type <class 'numpy.ndarray'>\n",
            "Variable nM is of type <class 'numpy.ndarray'>\n",
            "Variable tv is of type <class 'tensorflow.python.framework.ops.EagerTensor'>\n",
            "Variable tM is of type <class 'torch.Tensor'>\n"
          ]
        }
      ]
    }
  ]
}