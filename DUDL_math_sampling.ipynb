{
  "nbformat": 4,
  "nbformat_minor": 0,
  "metadata": {
    "colab": {
      "provenance": [],
      "include_colab_link": true
    },
    "kernelspec": {
      "name": "python3",
      "display_name": "Python 3"
    },
    "language_info": {
      "name": "python"
    }
  },
  "cells": [
    {
      "cell_type": "markdown",
      "metadata": {
        "id": "view-in-github",
        "colab_type": "text"
      },
      "source": [
        "<a href=\"https://colab.research.google.com/github/drpetros11111/DeepUnderstanding_DL/blob/Math/DUDL_math_sampling.ipynb\" target=\"_parent\"><img src=\"https://colab.research.google.com/assets/colab-badge.svg\" alt=\"Open In Colab\"/></a>"
      ]
    },
    {
      "cell_type": "markdown",
      "metadata": {
        "id": "bhWV8oes-wKR"
      },
      "source": [
        "# COURSE: A deep understanding of deep learning\n",
        "## SECTION: Math prerequisites\n",
        "### LECTURE: Random sampling and sampling variability\n",
        "#### TEACHER: Mike X Cohen, sincxpress.com\n",
        "##### COURSE URL: udemy.com/course/deeplearning_x/?couponCode=202401"
      ]
    },
    {
      "cell_type": "code",
      "metadata": {
        "id": "wYjuZD1kPb3g"
      },
      "source": [
        "# import libraries\n",
        "import numpy as np\n",
        "import matplotlib.pyplot as plt"
      ],
      "execution_count": 1,
      "outputs": []
    },
    {
      "cell_type": "code",
      "metadata": {
        "id": "tJ_A2ykHS5RY",
        "colab": {
          "base_uri": "https://localhost:8080/"
        },
        "outputId": "a418e99b-6a28-4e98-8324-aaef16d40d42"
      },
      "source": [
        "# create a list of numbers to compute the mean and variance of\n",
        "x = [1,2,4,6,5,4,0,-4,5,-2,6,10,-9,1,3,-6]\n",
        "n = len(x)\n",
        "\n",
        "# compute the population mean\n",
        "popmean = np.mean(x)\n",
        "\n",
        "# compute a sample mean\n",
        "sample = np.random.choice(x,size=5,replace=True)\n",
        "sampmean = np.mean(sample)\n",
        "\n",
        "# print them\n",
        "print(popmean)\n",
        "print(sampmean)"
      ],
      "execution_count": 4,
      "outputs": [
        {
          "output_type": "stream",
          "name": "stdout",
          "text": [
            "1.625\n",
            "3.0\n"
          ]
        }
      ]
    },
    {
      "cell_type": "markdown",
      "source": [
        "# Sampling with Replacement\n",
        "x: This is an array or list from which the random sampling is performed.\n",
        "\n",
        "size=5: This specifies that 5 random values will be drawn from the array x.\n",
        "\n",
        "replace=True: This means sampling with replacement, which allows the same value to be selected multiple times. After each selection, the element is \"replaced\" back into the pool of possible choices. So, it's possible to draw the same element more than once in the sample."
      ],
      "metadata": {
        "id": "sWJu1QllIXfS"
      }
    },
    {
      "cell_type": "code",
      "metadata": {
        "id": "QZaS568IThAr",
        "colab": {
          "base_uri": "https://localhost:8080/",
          "height": 449
        },
        "outputId": "abcd378c-3b91-421f-ba69-dfffe2703011"
      },
      "source": [
        "# compute lots of sample means\n",
        "\n",
        "# number of experiments to run\n",
        "nExpers = 10000\n",
        "\n",
        "# run the experiment!\n",
        "sampleMeans = np.zeros(nExpers)\n",
        "for i in range(nExpers):\n",
        "\n",
        "  # step 1: draw a sample\n",
        "  sample = np.random.choice(x,size=15,replace=True)\n",
        "\n",
        "  # step 2: compute its mean\n",
        "  sampleMeans[i] = np.mean(sample)\n",
        "\n",
        "\n",
        "\n",
        "# show the results as a histogram\n",
        "plt.hist(sampleMeans,bins=40,density=True)\n",
        "plt.plot([popmean,popmean],[0,.3],'m--')\n",
        "plt.ylabel('Count')\n",
        "plt.xlabel('Sample mean')\n",
        "\n",
        "# Fit a normal distribution to the sample means\n",
        "mu, std = np.mean(sampleMeans), np.std(sampleMeans)\n",
        "\n",
        "plt.show()"
      ],
      "execution_count": 5,
      "outputs": [
        {
          "output_type": "display_data",
          "data": {
            "text/plain": [
              "<Figure size 640x480 with 1 Axes>"
            ],
            "image/png": "[encoded data removed]"
          },
          "metadata": {}
        }
      ]
    },
    {
      "cell_type": "markdown",
      "source": [
        "# Running 10,000 Random Samples from a finite Population\n",
        "This code simulates the process of repeatedly drawing random samples from a population, computing the sample mean for each experiment, and then visualizing the distribution of those sample means in a histogram.\n",
        "\n",
        "It illustrates the concept of the sampling distribution of the sample mean, which is central to inferential statistics.\n",
        "\n",
        "-----------------------------\n",
        "#1. Number of Experiments:\n",
        "\n",
        "    nExpers = 10000\n",
        "This defines the number of experiments (or simulations) to run.\n",
        "\n",
        "In this case, 10000 experiments will be run, meaning 10,000 samples will be drawn and their means will be calculated.\n",
        "\n",
        "--------------------------------------\n",
        "#2. Initialize an Array to Store Sample Means:\n",
        "\n",
        "    sampleMeans = np.zeros(nExpers)\n",
        "\n",
        "This creates an empty array of zeros of size nExpers (10,000 in this case) to store the sample means.\n",
        "\n",
        "Each element in this array will eventually hold the mean of one sample drawn in the loop.\n",
        "\n",
        "----------------------------\n",
        "#3. Loop Over Each Experiment:\n",
        "\n",
        "    for i in range(nExpers):\n",
        "\n",
        "The for loop iterates 10,000 times, corresponding to each experiment.\n",
        "\n",
        "-------------------------\n",
        "#4. Draw a Sample for Each Experiment:\n",
        "\n",
        "    sample = np.random.choice(x, size=15, replace=True)\n",
        "\n",
        "Inside the loop, a sample of size 15 is randomly drawn from the population x.\n",
        "\n",
        "This is sampling with replacement, so each element of x can be chosen multiple times in a single sample.\n",
        "\n",
        "---------------------------------------\n",
        "#Example:\n",
        "\n",
        "If x = [1, 2, 3, 4, 5],\n",
        "\n",
        "a possible sample might be\n",
        "\n",
        "[3, 2, 1, 4, 3, 5, 2, 4, 1, 3, 4, 2, 5, 5, 1].\n",
        "\n",
        "---------------------------\n",
        "#5. Compute the Mean of Each Sample:\n",
        "\n",
        "    sampleMeans[i] = np.mean(sample)\n",
        "\n",
        "For each sample drawn, its mean is computed using np.mean(sample), and that mean is stored in the sampleMeans array at the index i.\n",
        "\n",
        "After the loop completes, sampleMeans will hold the means of 10,000 different samples.\n",
        "\n",
        "----------------------------\n",
        "#6. Visualize the Results:\n",
        "\n",
        "    plt.hist(sampleMeans, bins=40, density=True)\n",
        "    plt.plot([popmean, popmean], [0, .3], 'm--')\n",
        "    plt.ylabel('Count')\n",
        "    plt.xlabel('Sample mean')\n",
        "    plt.show()\n",
        "\n",
        "##plt.hist(sampleMeans, bins=40, density=True):\n",
        "\n",
        "This creates a histogram of the sample means.\n",
        "\n",
        "The bins=40 argument specifies that the data should be grouped into 40 bins, and density=True ensures that the histogram is normalized to represent a probability density (i.e., the area under the curve sums to 1).\n",
        "\n",
        "\n",
        "##plt.plot([popmean, popmean], [0, .3], 'm--'):\n",
        "\n",
        "This plots a vertical dashed line ('m--' for magenta dashed) at the population mean popmean.\n",
        "\n",
        "This line is plotting a vertical dashed line at the value of the population mean (popmean) on the histogram of sample means. Here's the detailed breakdown:\n",
        "\n",
        "Components:\n",
        "\n",
        "    [popmean, popmean]:\n",
        "\n",
        "This specifies the x-coordinates for the line.\n",
        "\n",
        "It creates a list with two identical values, popmean (the population mean).\n",
        "\n",
        "This means the line will be vertical at the value of popmean because the x-coordinates are the same.\n",
        "\n",
        "For example, if popmean = 5, the x-coordinates would be [5, 5].\n",
        "\n",
        "[0, .3]:\n",
        "\n",
        "This specifies the y-coordinates for the line.\n",
        "\n",
        "The line will span from 0 to 0.3 on the y-axis.\n",
        "\n",
        "This creates a vertical line of height 0.3 on the y-axis.\n",
        "'m--':\n",
        "\n",
        "This specifies the style of the line.\n",
        "'m' stands for magenta, which is the color of the line.\n",
        "\n",
        "'--' indicates that the line will be dashed (as opposed to solid).\n",
        "\n",
        "\n",
        "The line at popmean is a reference line for the true population mean. It shows where the actual population mean is located relative to the distribution of the sample means.\n",
        "Since the Central Limit Theorem suggests that the sample means should cluster around the true population mean, this line helps you visually compare how well the sample means reflect the true population mean.\n",
        "Visualization Example:\n",
        "If the population mean (popmean) is, say, 5, this line will be drawn vertically at x = 5 on the histogram. The y-axis of the line will go from 0 to 0.3, meaning that this line is drawn over the entire range of the histogram, providing a clear indication of where the actual population mean is located.\n",
        "\n",
        "\n",
        "This code draws a vertical magenta dashed line at the value of the population mean (popmean) to help compare how the sample means are distributed around the actual population mean.\n",
        "\n",
        "\n",
        "---------------------------------\n",
        "#7. Expected Results (Central Limit Theorem):\n",
        "According to the Central Limit Theorem (CLT), regardless of the distribution of the population x, the distribution of the sample means (if the sample size is large enough) will approach a normal distribution centered around the population mean as the number of experiments increases.\n",
        "\n",
        "Therefore, after running this simulation, the histogram of sample means should resemble a bell-shaped curve centered around the population mean popmean.\n",
        "\n",
        "------------------------------\n",
        "#Summary\n",
        "The code simulates 10,000 random experiments where a sample of size 15 is drawn from the population x, and the mean of each sample is calculated.\n",
        "\n",
        "It visualizes the sampling distribution of the sample mean, which is expected to be approximately normal, centered around the population mean, due to the Central Limit Theorem."
      ],
      "metadata": {
        "id": "ELhAD2xTKMrh"
      }
    }
  ]
}